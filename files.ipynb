{
 "cells": [
  {
   "cell_type": "code",
   "execution_count": 3,
   "metadata": {},
   "outputs": [
    {
     "name": "stdout",
     "output_type": "stream",
     "text": [
      "11430\n",
      "Total number of rows: 11430\n",
      "Total number of columns: 89\n",
      "(11430, 89)\n"
     ]
    }
   ],
   "source": [
    "import pandas as pd\n",
    "\n",
    "#to read csv file\n",
    "csv_data = pd.read_csv(\"Dataset2.csv\")\n",
    "# print(csv_data)\n",
    "# print(type(csv_data))\n",
    "print(len(csv_data))\n",
    "\n",
    "num_rows = csv_data.shape[0]\n",
    "num_cols = csv_data.shape[1]\n",
    "\n",
    "print(\"Total number of rows:\", num_rows)\n",
    "print(\"Total number of columns:\", num_cols)\n",
    "print(csv_data.shape)"
   ]
  }
 ],
 "metadata": {
  "kernelspec": {
   "display_name": "Python 3",
   "language": "python",
   "name": "python3"
  },
  "language_info": {
   "codemirror_mode": {
    "name": "ipython",
    "version": 3
   },
   "file_extension": ".py",
   "mimetype": "text/x-python",
   "name": "python",
   "nbconvert_exporter": "python",
   "pygments_lexer": "ipython3",
   "version": "3.11.4"
  },
  "orig_nbformat": 4
 },
 "nbformat": 4,
 "nbformat_minor": 2
}
